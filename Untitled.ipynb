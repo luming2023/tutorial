{
 "cells": [
  {
   "cell_type": "code",
   "execution_count": 32,
   "id": "d3a85ab8-9a41-4b57-9d19-ec506d9016df",
   "metadata": {},
   "outputs": [
    {
     "name": "stderr",
     "output_type": "stream",
     "text": [
      "Pandas Apply:   0%|          | 0/589 [00:00<?, ?it/s]c:\\Users\\ylm00820\\AppData\\Local\\miniconda3\\envs\\openbb\\Lib\\site-packages\\tqdm\\std.py:917: FutureWarning: the convert_dtype parameter is deprecated and will be removed in a future version.  Do ``ser.astype(object).apply()`` instead if you want ``convert_dtype=False``.\n",
      "  return getattr(df, df_function)(wrapper, **kwargs)\n",
      "Pandas Apply: 100%|██████████| 589/589 [00:00<00:00, 588761.93it/s]"
     ]
    },
    {
     "name": "stdout",
     "output_type": "stream",
     "text": [
      "              precision    recall  f1-score   support\n",
      "\n",
      "          up       0.33      0.17      0.22        83\n",
      "        down       0.54      0.73      0.62       109\n",
      "\n",
      "    accuracy                           0.49       192\n",
      "   macro avg       0.43      0.45      0.42       192\n",
      "weighted avg       0.45      0.49      0.45       192\n",
      "\n"
     ]
    },
    {
     "name": "stderr",
     "output_type": "stream",
     "text": [
      "\n"
     ]
    }
   ],
   "source": [
    "import pandas as pd\n",
    "import numpy as np\n",
    "from openbb import obb\n",
    "from swifter import swifter\n",
    "from sklearn.model_selection import train_test_split\n",
    "from sklearn.linear_model import LogisticRegression\n",
    "import xgboost as xgb\n",
    "\n",
    "from sklearn import metrics\n",
    "from sklearn.metrics import classification_report\n",
    "\n",
    "def encoding(n):\n",
    "    if n > 0:\n",
    "        return 1\n",
    "    else:\n",
    "        return 0\n",
    "\n",
    "def get_label(data):\n",
    "    data['Delta'] = data['close'] - data['open']\n",
    "    data['up_down'] = data['Delta'].swifter.apply(lambda d: encoding(d))\n",
    "    return data\n",
    "\n",
    "def get_sequence_data(data_up_down,lookback):\n",
    "    shape = (data_up_down.shape[0] - lookback + 1, lookback)\n",
    "    strides = data_up_down.strides + (data_up_down.strides[-1],)\n",
    "    return np.lib.stride_tricks.as_strided(data_up_down,shape=shape,strides=strides)\n",
    "\n",
    "def get_training_data(symbol,start_date,end_date,monthly_bool=True,lookback=10):\n",
    "    data = obb.equity.price.historical(\n",
    "        symbol=symbol,\n",
    "        start_date=start_date,\n",
    "        end_date=end_date\n",
    "    ).to_df()\n",
    "    data = get_label(data)\n",
    "    data_up_down = data['up_down'].to_numpy()\n",
    "    training_data = get_sequence_data(data_up_down,lookback)\n",
    "    return training_data\n",
    "\n",
    "data = get_training_data(symbol=\"AAPL\",start_date=\"2023-01-01\",end_date=\"2025-05-11\",monthly_bool=False, lookback=10)\n",
    "#pd.DataFrame(data).to_csv(\"data/data_aapl.csv\")\n",
    "pd.DataFrame(data).to_csv(\"data/data_aapl.csv\")\n",
    "data = pd.read_csv(\"data/data_aapl.csv\")\n",
    "X=data.iloc[:,:-1]\n",
    "Y=data.iloc[:,-1]\n",
    "X_train,X_test,y_train,y_test=train_test_split(X,Y,test_size=0.33,random_state=4284,stratify=Y)\n",
    "\n",
    "model_lr=LogisticRegression(random_state=42)\n",
    "model_lr.fit(X_train,y_train)\n",
    "y_pred=model_lr.predict(X_test)\n",
    "\n",
    "model_xgb = XGBClassifier(random_state=42)\n",
    "model_xgb.fit(X_train,y_train)\n",
    "\n",
    "cnf_matrix = metrics.confusion_matrix(y_test, y_pred)\n",
    "cnf_matrix\n",
    "\n",
    "target_names = ['up', 'down']\n",
    "print(classification_report(y_test,y_pred,target_names=target_names))\n"
   ]
  },
  {
   "cell_type": "code",
   "execution_count": null,
   "id": "a9202c35-e24d-45c9-be20-091b1a7204de",
   "metadata": {},
   "outputs": [],
   "source": []
  }
 ],
 "metadata": {
  "kernelspec": {
   "display_name": "openbb",
   "language": "python",
   "name": "python3"
  },
  "language_info": {
   "codemirror_mode": {
    "name": "ipython",
    "version": 3
   },
   "file_extension": ".py",
   "mimetype": "text/x-python",
   "name": "python",
   "nbconvert_exporter": "python",
   "pygments_lexer": "ipython3",
   "version": "3.12.10"
  }
 },
 "nbformat": 4,
 "nbformat_minor": 5
}
